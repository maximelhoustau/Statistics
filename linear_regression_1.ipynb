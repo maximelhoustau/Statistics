{
 "cells": [
  {
   "cell_type": "code",
   "execution_count": 1,
   "metadata": {},
   "outputs": [
    {
     "name": "stdout",
     "output_type": "stream",
     "text": [
      "Python version 3.6.6 |Anaconda, Inc.| (default, Jun 28 2018, 11:07:29) \n",
      "[GCC 4.2.1 Compatible Clang 4.0.1 (tags/RELEASE_401/final)]\n",
      "Pandas version 0.23.4\n",
      "Matplotlib version 3.0.2\n"
     ]
    }
   ],
   "source": [
    "# Import all libraries needed for the tutorial\n",
    "import pandas as pd\n",
    "import numpy  as np\n",
    "import matplotlib.pyplot as plt\n",
    "import sys #only needed to determine Python version number\n",
    "import matplotlib #only needed to determine Matplotlib version number\n",
    "import scipy.stats as stat #To determine quantiles of a Student law\n",
    "from sklearn.linear_model import LinearRegression #Verification of our manual linear regression\n",
    "from mpl_toolkits.mplot3d import Axes3D #3-Dimensions plot\n",
    "\n",
    "# Enable inline plotting\n",
    "%matplotlib inline\n",
    "\n",
    "# Version I'm working with: Python 3.6.6, Pandas 0.23.4, Matplotlib 3.0.0\n",
    "print('Python version ' + sys.version) \n",
    "print('Pandas version ' + pd.__version__)\n",
    "print('Matplotlib version ' + matplotlib.__version__)"
   ]
  },
  {
   "cell_type": "markdown",
   "metadata": {},
   "source": [
    "# Question 1"
   ]
  },
  {
   "cell_type": "code",
   "execution_count": 2,
   "metadata": {},
   "outputs": [
    {
     "data": {
      "text/html": [
       "<div>\n",
       "<style scoped>\n",
       "    .dataframe tbody tr th:only-of-type {\n",
       "        vertical-align: middle;\n",
       "    }\n",
       "\n",
       "    .dataframe tbody tr th {\n",
       "        vertical-align: top;\n",
       "    }\n",
       "\n",
       "    .dataframe thead th {\n",
       "        text-align: right;\n",
       "    }\n",
       "</style>\n",
       "<table border=\"1\" class=\"dataframe\">\n",
       "  <thead>\n",
       "    <tr style=\"text-align: right;\">\n",
       "      <th></th>\n",
       "      <th>year</th>\n",
       "      <th>gnp</th>\n",
       "      <th>invest</th>\n",
       "      <th>cpi</th>\n",
       "      <th>interest</th>\n",
       "    </tr>\n",
       "  </thead>\n",
       "  <tbody>\n",
       "    <tr>\n",
       "      <th>0</th>\n",
       "      <td>1968</td>\n",
       "      <td>873.4</td>\n",
       "      <td>133.3</td>\n",
       "      <td>82.54</td>\n",
       "      <td>5.16</td>\n",
       "    </tr>\n",
       "    <tr>\n",
       "      <th>1</th>\n",
       "      <td>1969</td>\n",
       "      <td>944.0</td>\n",
       "      <td>149.3</td>\n",
       "      <td>86.79</td>\n",
       "      <td>5.87</td>\n",
       "    </tr>\n",
       "    <tr>\n",
       "      <th>2</th>\n",
       "      <td>1970</td>\n",
       "      <td>992.7</td>\n",
       "      <td>144.2</td>\n",
       "      <td>91.45</td>\n",
       "      <td>5.95</td>\n",
       "    </tr>\n",
       "    <tr>\n",
       "      <th>3</th>\n",
       "      <td>1971</td>\n",
       "      <td>1077.6</td>\n",
       "      <td>166.4</td>\n",
       "      <td>96.01</td>\n",
       "      <td>4.88</td>\n",
       "    </tr>\n",
       "    <tr>\n",
       "      <th>4</th>\n",
       "      <td>1972</td>\n",
       "      <td>1185.9</td>\n",
       "      <td>195.0</td>\n",
       "      <td>100.00</td>\n",
       "      <td>4.50</td>\n",
       "    </tr>\n",
       "  </tbody>\n",
       "</table>\n",
       "</div>"
      ],
      "text/plain": [
       "   year     gnp  invest     cpi  interest\n",
       "0  1968   873.4   133.3   82.54      5.16\n",
       "1  1969   944.0   149.3   86.79      5.87\n",
       "2  1970   992.7   144.2   91.45      5.95\n",
       "3  1971  1077.6   166.4   96.01      4.88\n",
       "4  1972  1185.9   195.0  100.00      4.50"
      ]
     },
     "execution_count": 2,
     "metadata": {},
     "output_type": "execute_result"
    }
   ],
   "source": [
    "# Export the dataset from the .txt file and print the 5 first lines\n",
    "Location = r'./invest.txt'\n",
    "invest_df = pd.read_csv(Location, sep=' ')\n",
    "invest_df[:5]"
   ]
  },
  {
   "cell_type": "markdown",
   "metadata": {},
   "source": [
    "# Question 2"
   ]
  },
  {
   "cell_type": "code",
   "execution_count": 3,
   "metadata": {},
   "outputs": [
    {
     "data": {
      "image/png": "[encoded data removed]",
      "text/plain": [
       "<Figure size 432x288 with 1 Axes>"
      ]
     },
     "metadata": {
      "needs_background": "light"
     },
     "output_type": "display_data"
    }
   ],
   "source": [
    "# Ploting data\n",
    "gnp = invest_df['gnp']\n",
    "invest = invest_df['invest']\n",
    "interest = invest_df['interest']\n",
    "\n",
    "fig, ax = plt.subplots()\n",
    "ax.plot(gnp, invest, 'o')\n",
    "\n",
    "ax.set(xlabel='GNP', ylabel='invest', title='Invest = f(GNP)')\n",
    "ax.grid()\n",
    "plt.show()"
   ]
  },
  {
   "cell_type": "code",
   "execution_count": 4,
   "metadata": {},
   "outputs": [],
   "source": [
    "#Creating gnp_log and invest_log\n",
    "gnp_log = np.log(gnp);\n",
    "invest_log = np.log(invest);"
   ]
  },
  {
   "cell_type": "markdown",
   "metadata": {},
   "source": [
    "# Question 3"
   ]
  },
  {
   "cell_type": "code",
   "execution_count": 5,
   "metadata": {},
   "outputs": [
    {
     "name": "stdout",
     "output_type": "stream",
     "text": [
      "Linear Regression computed: log(Invest) =  1.0152814015988707  * log(GNP) -1.9635913352301815\n",
      "\n",
      "Standard Deviation: sigma =  0.08761471654613968\n",
      "\n",
      "Determination coefficient: R =  0.9627572956057855\n"
     ]
    }
   ],
   "source": [
    "n = len(invest);\n",
    "invest_mean = np.mean(invest);\n",
    "gnp_mean = np.mean(gnp);\n",
    "invest_mean_log = np.mean(invest_log);\n",
    "gnp_mean_log = np.mean(gnp_log);\n",
    "\n",
    "#Linear Regression: Invest = a * gnp + b\n",
    "a = np.sum([(gnp_log[i] - gnp_mean_log) * (invest_log[i] - invest_mean_log) for i in range(n)]);\n",
    "b = np.sum([(gnp_log[i] - gnp_mean_log)**2 for i in range(n)]);\n",
    "gnp_estimator = a/b;\n",
    "\n",
    "#Invest estimator computed\n",
    "invest_estimator = invest_mean_log - gnp_estimator*gnp_mean_log;\n",
    "print(\"Linear Regression computed: log(Invest) = \", gnp_estimator,\" * log(GNP)\", invest_estimator)\n",
    "\n",
    "#Standard Deviation\n",
    "s_d = np.sum([(invest_log[i] - (invest_estimator + gnp_estimator*gnp_log[i]))**2 for i in range(n)])/(n-2);\n",
    "sigma = np.sqrt(s_d);\n",
    "print(\"\\nStandard Deviation: sigma = \", sigma);\n",
    "\n",
    "#Determination coefficient\n",
    "a = np.sum([(invest_log[i] - (invest_estimator+ gnp_estimator*gnp_log[i]))**2 for i in range(n)]);\n",
    "b = np.sum([(invest_log[i] - invest_mean_log)**2 for i in range(n)]);\n",
    "R = 1 - a/b;\n",
    "print(\"\\nDetermination coefficient: R = \", R);"
   ]
  },
  {
   "cell_type": "markdown",
   "metadata": {},
   "source": [
    "# Question 4"
   ]
  },
  {
   "cell_type": "code",
   "execution_count": 6,
   "metadata": {},
   "outputs": [
    {
     "name": "stdout",
     "output_type": "stream",
     "text": [
      "Test rejected\n",
      "\n",
      "The p-value of the statistical test is  1.1099898777899853e-11\n"
     ]
    }
   ],
   "source": [
    "V_slope = s_d/np.sum([(gnp_log[i] - gnp_mean_log)**2 for i in range(n)]);\n",
    "slope_test = gnp_estimator/np.sqrt(V_slope);\n",
    "t_quantile = stat.t.interval(0.95, df = n);\n",
    "\n",
    "#Statistical test for H0\n",
    "if t_quantile[0] <= slope_test <= t_quantile[1] : print(\"Test not rejected\");\n",
    "else : print (\"Test rejected\");\n",
    "\n",
    "#p-value computed\n",
    "p_value = 1 - (stat.t.cdf(slope_test, df = n) - stat.t.cdf(-slope_test, df = n))\n",
    "print(\"\\nThe p-value of the statistical test is \", p_value)"
   ]
  },
  {
   "cell_type": "markdown",
   "metadata": {},
   "source": [
    "# Question 5"
   ]
  },
  {
   "cell_type": "code",
   "execution_count": 7,
   "metadata": {},
   "outputs": [
    {
     "name": "stdout",
     "output_type": "stream",
     "text": [
      "The investment estimation for a GNP value of 1000 is 155.9794279310548\n",
      "\n",
      "Confidence interval at the level 5% is: [ 146.6755267342194 , 165.87349286827566 ]\n",
      "\n",
      "Prediction interval at the level 5% is: [ 132.00238933412925 , 184.31167845087407 ]\n"
     ]
    }
   ],
   "source": [
    "#Estimation of the investment for GNP = 1000\n",
    "GNP_value = 1000;\n",
    "def invest_estimation(x):\n",
    "    return np.exp((invest_estimator + np.log(x) * gnp_estimator))\n",
    "\n",
    "print(\"The investment estimation for a GNP value of 1000 is\", invest_estimation(GNP_value));\n",
    "\n",
    "def CI(x):\n",
    "    CI_R = np.log(invest_estimation(x)) - stat.t.ppf(0.05, df = n-2 )*sigma*np.sqrt(1/n + (np.log(x) - gnp_mean_log)**2/np.sum([(gnp_log[i] - gnp_mean_log)**2 for i in range(n)]));\n",
    "    CI_L = np.log(invest_estimation(x)) + stat.t.ppf(0.05, df = n-2 )*sigma*np.sqrt(1/n + (np.log(x) - gnp_mean_log)**2/np.sum([(gnp_log[i] - gnp_mean_log)**2 for i in range(n)]));\n",
    "    return (CI_L, CI_R)\n",
    "\n",
    "def PI(x):\n",
    "    PI_R = np.log(invest_estimation(x)) - stat.t.ppf(0.05, df = n-2 )*sigma*np.sqrt(1 + 1/n + (np.log(x) - gnp_mean_log)**2/np.sum([(gnp_log[i] - gnp_mean_log)**2 for i in range(n)]));\n",
    "    PI_L = np.log(invest_estimation(x)) + stat.t.ppf(0.05, df = n-2 )*sigma*np.sqrt(1 + 1/n + (np.log(x) - gnp_mean_log)**2/np.sum([(gnp_log[i] - gnp_mean_log)**2 for i in range(n)]));\n",
    "    return(PI_L, PI_R)\n",
    "\n",
    "#Confidence interval\n",
    "print(\"\\nConfidence interval at the level 5% is: [\", np.exp(CI(1000)[0]) ,\",\", np.exp(CI(1000)[1]),\"]\")\n",
    "\n",
    "#Prediction interval\n",
    "print(\"\\nPrediction interval at the level 5% is: [\", np.exp(PI(1000)[0]) ,\",\", np.exp(PI(1000)[1]),\"]\") "
   ]
  },
  {
   "cell_type": "markdown",
   "metadata": {},
   "source": [
    "# Question 6"
   ]
  },
  {
   "cell_type": "code",
   "execution_count": 8,
   "metadata": {},
   "outputs": [
    {
     "data": {
      "image/png": "[encoded data removed]",
      "text/plain": [
       "<Figure size 432x288 with 1 Axes>"
      ]
     },
     "metadata": {
      "needs_background": "light"
     },
     "output_type": "display_data"
    }
   ],
   "source": [
    "#Complete Plot\n",
    "fig, ax = plt.subplots()\n",
    "ax.plot(gnp, invest, 'o', label = 'data')\n",
    "ax.plot(gnp, np.exp(gnp_estimator*gnp_log + invest_estimator), 'r--')\n",
    "ax.plot(gnp, np.exp(CI(gnp)[0]) , 'g')\n",
    "ax.plot(gnp, np.exp(PI(gnp)[0]) , 'b')\n",
    "ax.plot(gnp, np.exp(CI(gnp)[1]) , 'g')\n",
    "ax.plot(gnp, np.exp(PI(gnp)[1]) , 'b')\n",
    "\n",
    "ax.set(xlabel='GNP_log', ylabel='invest_log', title='Invest = f(GNP)')\n",
    "plt.yscale('log');\n",
    "plt.xscale('log');\n",
    "plt.legend(('data','regression line', 'Confidence interval', 'Prediction interval'))\n",
    "plt.show()"
   ]
  },
  {
   "cell_type": "markdown",
   "metadata": {},
   "source": [
    "# Question 7"
   ]
  },
  {
   "cell_type": "code",
   "execution_count": 9,
   "metadata": {},
   "outputs": [
    {
     "name": "stdout",
     "output_type": "stream",
     "text": [
      "Linear Regression from sklearn: log(Invest) =  1.015281401598871  * log(GNP) -1.9635913352301815\n",
      "\n",
      "Determination Coefficient from sklearn:  0.9627572956057855\n",
      "\n",
      "Sklearn prediction for GNP value of 1000:  155.97942793105494\n"
     ]
    }
   ],
   "source": [
    "#Linear Regression from sklearn\n",
    "regr = LinearRegression();\n",
    "regr.fit(gnp_log.values.reshape(-1,1), invest_log);\n",
    "\n",
    "print(\"Linear Regression from sklearn: log(Invest) = \", regr.coef_[0] ,\" * log(GNP)\", regr.intercept_);\n",
    "print(\"\\nDetermination Coefficient from sklearn: \",regr.score(gnp_log.values.reshape(-1,1), invest_log));\n",
    "\n",
    "#Prediction\n",
    "print(\"\\nSklearn prediction for GNP value of 1000: \",np.exp(regr.predict(np.array(np.log(1000)).reshape(1,-1))[0]))"
   ]
  },
  {
   "cell_type": "markdown",
   "metadata": {},
   "source": [
    "# Question 8"
   ]
  },
  {
   "cell_type": "code",
   "execution_count": 10,
   "metadata": {},
   "outputs": [
    {
     "data": {
      "image/png": "[encoded data removed]",
      "text/plain": [
       "<Figure size 432x288 with 1 Axes>"
      ]
     },
     "metadata": {
      "needs_background": "light"
     },
     "output_type": "display_data"
    }
   ],
   "source": [
    "#Plot of the dataset and the regression line\n",
    "fig, ax = plt.subplots()\n",
    "ax.plot(gnp, invest, 'o', label = 'data')\n",
    "ax.plot(gnp, np.exp(gnp_estimator*gnp_log + invest_estimator), 'r--', label = 'regression line' )\n",
    "\n",
    "prediction = np.exp(regr.predict(gnp_log.values.reshape(-1,1)));\n",
    "ax.plot(gnp, prediction, 'o', label = 'prediction')\n",
    "\n",
    "ax.set(xlabel='GNP_log', ylabel='invest_log', title='Invest = f(GNP)')\n",
    "plt.yscale('log');\n",
    "plt.xscale('log');\n",
    "ax.legend(loc='best', shadow=True, fontsize='x-large')\n",
    "\n",
    "plt.show()"
   ]
  },
  {
   "cell_type": "markdown",
   "metadata": {},
   "source": [
    "# Question 9"
   ]
  },
  {
   "cell_type": "code",
   "execution_count": 11,
   "metadata": {},
   "outputs": [
    {
     "name": "stdout",
     "output_type": "stream",
     "text": [
      "Gram Matrix on interest and gnp: \n",
      " [[3.56630045e+06 1.47355931e+04]\n",
      " [1.47355931e+04 6.29237133e+01]]\n",
      "\n",
      "Rank of Gram Matrix:  2\n"
     ]
    }
   ],
   "source": [
    "#Build and computation of Gram Matrix\n",
    "X = np.transpose(np.array([[gnp[i] for i in range(n) ], [interest[i] for i in range(n)] ]))\n",
    "gram = np.dot(np.transpose(X), X)/n;\n",
    "\n",
    "print(\"Gram Matrix on interest and gnp: \\n\", gram);\n",
    "print(\"\\nRank of Gram Matrix: \", np.ndim(gram));"
   ]
  },
  {
   "cell_type": "markdown",
   "metadata": {},
   "source": [
    "# Question 10"
   ]
  },
  {
   "cell_type": "code",
   "execution_count": 12,
   "metadata": {
    "scrolled": true
   },
   "outputs": [
    {
     "name": "stdout",
     "output_type": "stream",
     "text": [
      "Invest =  -0.46064224909495266  * interest +  0.15650676187505574  * gnp +  5.764652338145751\n",
      "\n",
      "Standard deviation: sigma =  29.40632255340636\n",
      "\n",
      "Test accepted on the null hypothesis for Beta 0 : 5.764652338145751\n",
      "\n",
      "p value for Beta  0 :  0.7993220018625629\n",
      "\n",
      "Test non accepted for Beta 1 : 0.15650676187505574\n",
      "\n",
      "p value for Beta  1 :  1.4300363522457005e-05\n",
      "\n",
      "Test accepted on the null hypothesis for Beta 2 : -0.46064224909495266\n",
      "\n",
      "p value for Beta  2 :  1.0612904283366345\n",
      "\n",
      "Determination coefficient : 0.946389747506157\n"
     ]
    }
   ],
   "source": [
    "#Computation of the Theta vector for the linear coefficients\n",
    "X2 = np.concatenate((np.transpose(np.array([[1 for i in range(n)]])), X), axis = 1);\n",
    "theta = np.dot(np.linalg.inv(np.dot(np.transpose(X2), X2)), np.transpose(X2));\n",
    "theta = np.dot(theta, invest)\n",
    "print(\"Invest = \", theta[2],\" * interest + \", theta[1],\" * gnp + \", theta[0]);\n",
    "\n",
    "#Standard Deviation\n",
    "sigma2 = (np.sum([ (invest[i] - theta[1]*gnp[i] - theta[2]*interest[i] - theta[0])**2 for i in range(n)]))/(n-3);\n",
    "print(\"\\nStandard deviation: sigma = \", np.sqrt(sigma2))\n",
    "\n",
    "#Student Test\n",
    "C = sigma2*np.linalg.inv(np.dot(np.transpose(X2), X2))\n",
    "#i parameter corresponds to the index of the features\n",
    "def Var_Beta(i):\n",
    "    return C[i][i]\n",
    "\n",
    "def Beta_test(i):\n",
    "    return theta[i]/np.sqrt(Var_Beta(i));\n",
    "\n",
    "t_quantile = stat.t.interval(0.95, df = n-3);\n",
    "def Student_test_Beta(i):\n",
    "    if t_quantile[0] <= Beta_test(i) <= t_quantile[1] : print(\"\\nTest accepted on the null hypothesis for Beta\", i,\":\", theta[i]);\n",
    "    else: print(\"\\nTest non accepted for Beta\", i,\":\", theta[i]);\n",
    "    \n",
    "def pvalue_Beta(i):\n",
    "    return 1 - (stat.t.cdf(Beta_test(i), df = n-3) - stat.t.cdf(-Beta_test(i), df = n-3));\n",
    "\n",
    "for i in range(3):\n",
    "    Student_test_Beta(i);\n",
    "    print(\"\\np value for Beta \", i, \": \", pvalue_Beta(i));\n",
    "\n",
    "#Determination coefficient\n",
    "def invest_estimation(gnp, interest):\n",
    "    return theta[0] + theta[1]*gnp + theta[2]*interest;\n",
    "\n",
    "invest_mean = np.sum(invest)/n;\n",
    "print(\"\\nDetermination coefficient :\", 1 - np.sum([ (invest[i] - invest_estimation(gnp[i], interest[i]))**2 for i in range(n)])/np.sum([(invest[i] - invest_mean)**2 for i in range(n)]));\n"
   ]
  },
  {
   "cell_type": "markdown",
   "metadata": {},
   "source": [
    "# Question 11"
   ]
  },
  {
   "cell_type": "code",
   "execution_count": 14,
   "metadata": {},
   "outputs": [
    {
     "name": "stdout",
     "output_type": "stream",
     "text": [
      "log(Investment) prediction:  5.060472476441298\n",
      "\n",
      "Confidence Interval 99,9%: (33.354153213220684, 281.97583023128334)\n",
      "\n",
      "Prediction Interval 99,9%: (-12.059456532365346, 327.38943997686937)\n"
     ]
    }
   ],
   "source": [
    "#Prediction of a GNP value of 1000 and interest of 10\n",
    "\n",
    "def investment(gnp, interest):\n",
    "    return theta[0] + theta[1]*gnp + theta[2]*interest;\n",
    "\n",
    "print(\"log(Investment) prediction: \", np.log(investment(1000,10)));\n",
    "\n",
    "#Confidence interval 2-Dimensions\n",
    "def CI(gnp, interest):\n",
    "    XTX = np.linalg.inv(np.dot(np.transpose(X2), X2));\n",
    "    x = np.array([1, gnp, interest]);\n",
    "    CI_R = investment(gnp,interest) - stat.t.ppf(0.001, df = n-3 )*np.sqrt(sigma2*np.dot(np.dot(np.transpose(x), XTX), x));\n",
    "    CI_L = investment(gnp,interest) + stat.t.ppf(0.001, df = n-3 )*np.sqrt(sigma2*np.dot(np.dot(np.transpose(x), XTX), x));\n",
    "    return (CI_L, CI_R)\n",
    "\n",
    "#Prediction interval 2-Dimensions\n",
    "def PI(gnp, interest):\n",
    "    XTX = np.linalg.inv(np.dot(np.transpose(X2), X2));\n",
    "    x = np.array([1, gnp, interest]);\n",
    "    PI_R = investment(gnp,interest) - stat.t.ppf(0.001, df = n-3 )*np.sqrt(sigma2*(1 + np.dot(np.dot(np.transpose(x), XTX), x)));\n",
    "    PI_L = investment(gnp,interest) + stat.t.ppf(0.001, df = n-3 )*np.sqrt(sigma2*(1 + np.dot(np.dot(np.transpose(x), XTX), x)));\n",
    "    return (PI_L, PI_R)\n",
    "\n",
    "print(\"\\nConfidence Interval 99,9%:\", CI(1000,10))\n",
    "print(\"\\nPrediction Interval 99,9%:\", PI(1000,10))\n"
   ]
  },
  {
   "cell_type": "markdown",
   "metadata": {},
   "source": [
    "# Question 12"
   ]
  },
  {
   "cell_type": "code",
   "execution_count": 38,
   "metadata": {},
   "outputs": [
    {
     "data": {
      "image/png": "[encoded data removed]",
      "text/plain": [
       "<Figure size 432x288 with 1 Axes>"
      ]
     },
     "metadata": {
      "needs_background": "light"
     },
     "output_type": "display_data"
    }
   ],
   "source": [
    "#3_Dimensions plot\n",
    "fig = plt.figure()\n",
    "ax = plt.axes(projection='3d');\n",
    "\n",
    "ax.scatter3D(np.log(gnp), interest, np.log(invest), c='r');\n",
    "ax.scatter3D(np.log(gnp), interest, [np.log(investment(gnp[i], interest[i])) for i in range(n)], c='b');\n",
    "\n",
    "ax.set_xlabel('log(GNP)');\n",
    "ax.set_ylabel('Interest');\n",
    "ax.set_zlabel('log(Invest)');\n",
    "plt.legend(('data','prediction'))\n",
    "plt.show();"
   ]
  },
  {
   "cell_type": "markdown",
   "metadata": {},
   "source": [
    "# Question 13"
   ]
  },
  {
   "cell_type": "code",
   "execution_count": 52,
   "metadata": {},
   "outputs": [
    {
     "name": "stdout",
     "output_type": "stream",
     "text": [
      "Linear Regression from sklearn: Invest =  0.1565067618750558  * GNP + -0.46064224909473506 * Interest + 5.764652338143264\n",
      "\n",
      "Determination Coefficient from sklearn:  0.946389747506157\n",
      "\n",
      "Sklearn log(Investment) prediction for GNP value of 1000 and Interest value of 10:  5.060472476441296\n"
     ]
    }
   ],
   "source": [
    "#Linear Regression from sklearn\n",
    "regr = LinearRegression();\n",
    "#Building the training set\n",
    "X = [[gnp[i],interest[i]] for i in range(n)];\n",
    "regr.fit(X, invest);\n",
    "\n",
    "print(\"Linear Regression from sklearn: Invest = \", regr.coef_[0] ,\" * GNP +\",regr.coef_[1], \"* Interest +\", regr.intercept_);\n",
    "print(\"\\nDetermination Coefficient from sklearn: \",regr.score(X, invest));\n",
    "\n",
    "#Prediction\n",
    "print(\"\\nSklearn log(Investment) prediction for GNP value of 1000 and Interest value of 10: \",np.log(regr.predict(np.array([1000,10]).reshape(1,-1))[0]));"
   ]
  },
  {
   "cell_type": "markdown",
   "metadata": {},
   "source": [
    "##### Those values are the same than the manual values computed before."
   ]
  }
 ],
 "metadata": {
  "kernelspec": {
   "display_name": "Python 3",
   "language": "python",
   "name": "python3"
  },
  "language_info": {
   "codemirror_mode": {
    "name": "ipython",
    "version": 3
   },
   "file_extension": ".py",
   "mimetype": "text/x-python",
   "name": "python",
   "nbconvert_exporter": "python",
   "pygments_lexer": "ipython3",
   "version": "3.6.6"
  }
 },
 "nbformat": 4,
 "nbformat_minor": 2
}
